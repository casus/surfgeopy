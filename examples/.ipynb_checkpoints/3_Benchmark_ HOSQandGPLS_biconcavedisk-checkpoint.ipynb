{
 "cells": [
  {
   "cell_type": "code",
   "execution_count": null,
   "id": "453a92e5",
   "metadata": {},
   "outputs": [],
   "source": [
    "# Imports\n",
    "import numpy as np\n",
    "import scipy.io\n",
    "import minterpy as mp\n",
    "import matplotlib.pyplot as plt\n",
    "from math import pi\n",
    "from time import time\n",
    "import minterpy_levelsets as ls\n",
    "\n",
    "# Local imports\n",
    "import surfintpy as si"
   ]
  },
  {
   "cell_type": "markdown",
   "id": "1acd9786",
   "metadata": {},
   "source": [
    "# Gauss Bonnet theorem on bioconcave surface\n",
    "This is a benchmark of computing surface integrals using high-order surface quadrature (HOSQ) method and GPLS method for algebraic varieties.\n",
    "\n"
   ]
  },
  {
   "cell_type": "markdown",
   "id": "68c55eab",
   "metadata": {},
   "source": [
    "# Step 1: Load and extract the vertices of a bioconcave mesh composed of          triangles."
   ]
  },
  {
   "cell_type": "code",
   "execution_count": null,
   "id": "8d4ae8bc",
   "metadata": {},
   "outputs": [],
   "source": [
    "mesh_path=\"../mesh/vogitMesh_N=3144_d=0.5_c=0.375.mat\" \n",
    "# vogitMesh_N=5980.mat\n",
    "mesh_mat = scipy.io.loadmat(mesh_path)\n",
    "pointcloud= mesh_mat[\"xs\"]"
   ]
  },
  {
   "cell_type": "code",
   "execution_count": null,
   "id": "506a928b",
   "metadata": {},
   "outputs": [],
   "source": [
    "# d=0.80\n",
    "# c=-0.9344\n",
    "d=0.5\n",
    "c=0.375\n",
    "def phi(x: np.ndarray):\n",
    "    return (d**2 + x[0]**2 + x[1]**2 + x[2]**2)**3 - 8*d**2*(x[1]**2 + x[2]**2) - c**4 ;\n",
    "\n",
    "def dphi(x: np.ndarray):\n",
    "    \n",
    "    return np.array([6*x[0]*(d**2+x[0]**2+x[1]**2 + x[2]**2)**2, 6*x[1]*(d**2 + x[0]**2 + x[1]**2 + x[2]**2)**2-16*d**2*x[1], 6*x[2]*(d**2 + x[0]**2 + x[1]**2 + x[2]**2)**2 - 16*d**2*x[2]])"
   ]
  },
  {
   "cell_type": "markdown",
   "id": "0e280a58",
   "metadata": {},
   "source": [
    "# Step 2: Perform surface fitting"
   ]
  },
  {
   "cell_type": "code",
   "execution_count": null,
   "id": "a68b029f",
   "metadata": {},
   "outputs": [],
   "source": [
    "result = np.zeros(pointcloud.shape[0])  # initialize an empty array to store the results\n",
    "for i in range(pointcloud.shape[0]):\n",
    "    result[i] = phi(pointcloud[i])\n",
    "print(f\"The accuracy of the given mesh is:{(result).max()}\")\n",
    "if (result).max()>1e-8:\n",
    "    for i in range(pointcloud.shape[0]):\n",
    "        pointcloud[i,:]=si.SimpleImplicitSurfaceProjection(phi, dphi,pointcloud[i,:])\n",
    "newt_poly = ls.LevelsetPoly(pointcloud, method='BK',verbose=True)"
   ]
  },
  {
   "cell_type": "markdown",
   "id": "2ac0e8a4",
   "metadata": {},
   "source": [
    "# Step 3: We execute  HOSQ for the bioconcave surface.\n",
    "\n",
    "\n",
    "This step involves utilizing the zero level set provided by GPLS and computing the curvature with the help of GPLS:\n",
    "\n",
    "If $M$ is orienatble, then  the gradient $\\nabla Q_M = (\\partial_x Q_M,\\, \\partial_y Q_M,\\, \\partial_z Q_M) \\in \\mathbb{R}^3$ never vanishes on $M$ and provides, together with the Hessian $H_M =\\nabla(\\nabla Q_M) \\in \\mathbb{R}^{3 \\times 3}$ of $Q_M$\n",
    "\\begin{equation*}\n",
    " H_M  = \\left(\\begin{array}{ccc}\n",
    " \\frac{\\partial^2 Q_M}{\\partial_{x}^2} & \\frac{\\partial^2 Q_M}{\\partial_{x}\\partial_y} & \\frac{\\partial^2 Q_M}{\\partial_{x}\\partial_z} \\\\\n",
    " \\frac{\\partial^2 Q_M}{\\partial_{y}\\partial_x} & \\frac{\\partial^2 Q_M}{\\partial_y^2} & \\frac{\\partial^2 Q_M}{\\partial_{y}\\partial_z} \\\\\n",
    " \\frac{\\partial^2 Q_M}{\\partial_z\\partial_{x}} & \\frac{\\partial^2 Q_M}{\\partial_{z}\\partial_y} & \\frac{\\partial^2 Q_M}{\\partial_z^2} \\\\\n",
    " \\end{array}\\right) ,\n",
    "\\end{equation*}\n",
    "the main ingredients for the following computations. \n",
    "\n",
    "Both Gauss and mean curvature can be computed from these quantities as:\n",
    "\\begin{align}\n",
    "  K_{\\mathrm{Gauss}} &= \\frac{\\det \\left(\\begin{array}{cc}H_M  & \\nabla Q_M^T \\\\  \\nabla Q_M & 0 \\end{array}\\right)}{\\|\\nabla Q_M\\|^4} \\label{eq:GC}\\\\\n",
    "  K_{\\mathrm{mean}} &= \\frac{\\nabla Q_M H_M \\nabla Q_M^T - \\|\\nabla Q_M\\|^2\\mathrm{trace}(H_M)}{2\\|\\nabla Q_M\\|^3}\\,. \\label{eq:MC}\n",
    "\\end{align}"
   ]
  },
  {
   "cell_type": "code",
   "execution_count": null,
   "id": "1b11488e",
   "metadata": {},
   "outputs": [],
   "source": [
    "def err_t(intp_degree,lp_degree,func,grad_fun,mesh_path,Refinement):\n",
    "    mesh_mat = scipy.io.loadmat(mesh_path)\n",
    "    xs =mesh_mat[\"xs\"]\n",
    "    elems = mesh_mat[\"surfs\"] - 1\n",
    "    t0 = time()\n",
    "    pnts, ws, offset = si.compute_surf_quadrature(func,grad_fun, xs, elems,intp_degree,lp_degree,Refinement)\n",
    "    # number of quadrature points\n",
    "    nqp = pnts.shape[0]\n",
    "    #compute the mean and Gauss curvature using GPLS\n",
    "    mean_curvature, gauss_curvature = newt_poly.compute_curvatures_at(pnts)\n",
    "    # function value at each quadrature points\n",
    "    fs_qp = np.array(\n",
    "            [\n",
    "                    gauss_curvature[qpid]\n",
    "\n",
    "                for qpid in range(nqp)\n",
    "            ]\n",
    "        )\n",
    "    # numerical integrations\n",
    "    nints = np.matmul(ws, fs_qp)\n",
    "    exact_area =4*np.pi\n",
    "    t1 = time()\n",
    "    print(\"Relative error: \", abs( nints - exact_area)/exact_area)\n",
    "    print (\"The main function takes:\",{(t1-t0)})\n",
    "    error=abs( nints - exact_area)/exact_area\n",
    "    return error\n",
    "\n",
    "# here is the error obtained using Dune Curved Grid\n",
    "error_dune2_14=np.array([4.070182e-01, 6.923949e-02, 4.228664e-02, 2.622550e-02,\n",
    "                         5.113386e-02,4.019372e-02, 2.096475e-02, 5.873101e-03, \n",
    "                         1.096913e-03, 2.389012e-03,1.909434e-03, 2.048844e-03, 3.086737e-03])\n",
    "error_dune2_14_N_5980=np.array([ 2.707257e-04, 2.368295e-05,2.929645e-06, 8.316950e-07, \n",
    "                   7.721830e-08, 1.755569e-08, 1.793149e-09, 1.717362e-09,\n",
    "                   1.118567e-08, 2.400822e-08,7.402912e-08, 4.242422e-07, 6.526693e-05])\n",
    "\n",
    "eror_HOSQ_GPLS_5980=np.array([5.073369049507697e-07,8.640904298483953e-08,4.4663271305718165e-10,\n",
    "                         1.6527292988771176e-11,6.197134099349359e-13,9.612343037311962e-15,\n",
    "                         1.6527292988771176e-18,5.654319433712919e-16,2.8271597168564594e-16,\n",
    "                       1.6527292988771176e-18,2.8271597168564594e-16,1.4135798584282297e-16,1.2722218725854067e-15])\n",
    "\n",
    "eror_HOSQ_GPLS_3144=np.array([0.0057375560027092265,0.003452810634989216,0.0019192891472937614,\n",
    "                            0.001097719244095004,0.00011874036348144255,0.00034524648725181567,\n",
    "                            0.00026732578505730113,0.0001807960214453163,0.00015415230427579443,\n",
    "                            0.00019874582631391715,0.0002072374920336302,0.0001936492313454116,0.0002054628548872606])\n",
    "eror_HOSQ_GPLS_3144_tworefi=np.array([1.6313638648758838e-05,3.971675888592194e-05,3.479480027716355e-05,\n",
    "          1.4316586149646958e-06,4.6182102560282536e-07, 9.036056496923772e-08,\n",
    "          6.914594195816244e-08,7.210336305897305e-08,7.982924603263033e-08,\n",
    "          7.328078475329082e-08,8.80457617955241e-08,8.011791246873002e-08,8.619724433563943e-08])\n",
    "# Degree of Polynomial\n",
    "Nrange = list(range(2,15))\n",
    "lp_degree=float(\"inf\")\n",
    "refinement=0\n",
    "error1=[] \n",
    "for n in Nrange:\n",
    "    if n%1==0:print(n)\n",
    "    erro1 = err_t(int(n),lp_degree,newt_poly,newt_poly.compute_gradients_at,mesh_path,refinement)\n",
    "    error1.append(erro1)\n",
    "\n",
    "plt.semilogy(Nrange, error1, '-or')\n",
    "plt.semilogy(Nrange, error_dune2_14, '-ob')\n",
    "plt.xlabel(\"Degree of Polynomial\",fontsize=13)\n",
    "plt.ylabel(\"Relative Error\",fontsize=13)\n",
    "# plt.title(\"A grade-12 G.quadrature rule with $N_{\\Delta}=2528$\")\n",
    "plt.legend(['HOSQ+GPLS','DCG'],prop={'size': 13},loc='upper center')\n",
    "plt.xticks(np.arange(min(Nrange), max(Nrange)+1, 1.0))\n",
    "plt.ylim([2.758195177427762e-20,3.9514540203871754e-04])\n",
    "plt.grid()\n",
    "plt.savefig(\"../images/dune_vs_HOSQ+GPLS_biconcave.pdf\")"
   ]
  }
 ],
 "metadata": {
  "kernelspec": {
   "display_name": "Python 3 (ipykernel)",
   "language": "python",
   "name": "python3"
  },
  "language_info": {
   "codemirror_mode": {
    "name": "ipython",
    "version": 3
   },
   "file_extension": ".py",
   "mimetype": "text/x-python",
   "name": "python",
   "nbconvert_exporter": "python",
   "pygments_lexer": "ipython3",
   "version": "3.10.9"
  }
 },
 "nbformat": 4,
 "nbformat_minor": 5
}
